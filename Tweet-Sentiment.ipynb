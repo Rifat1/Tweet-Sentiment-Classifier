{
 "cells": [
  {
   "cell_type": "markdown",
   "id": "02770ebe",
   "metadata": {},
   "source": [
    "### 1. Install Required Libararies"
   ]
  },
  {
   "cell_type": "code",
   "execution_count": 10,
   "id": "7fbb5ccc",
   "metadata": {},
   "outputs": [],
   "source": [
    "# !pip install torch torchtext pandas scikit-learn matplotlib --quiet"
   ]
  },
  {
   "cell_type": "markdown",
   "id": "e531372c",
   "metadata": {},
   "source": [
    "### 2. Import Libraries"
   ]
  },
  {
   "cell_type": "code",
   "execution_count": 11,
   "id": "6d66f589",
   "metadata": {},
   "outputs": [],
   "source": [
    "import torch\n",
    "import torch.nn as nn\n",
    "import torch.optim as optim\n",
    "from torch.utils.data import Dataset, DataLoader\n",
    "from sklearn.model_selection import train_test_split\n",
    "from sklearn.metrics import classification_report\n",
    "import pandas as pd\n",
    "import re\n",
    "import string\n"
   ]
  },
  {
   "cell_type": "markdown",
   "id": "9e0c1775",
   "metadata": {},
   "source": [
    "### 3. Load and Clean Data"
   ]
  },
  {
   "cell_type": "code",
   "execution_count": 12,
   "id": "371b757c",
   "metadata": {},
   "outputs": [
    {
     "data": {
      "text/html": [
       "<div>\n",
       "<style scoped>\n",
       "    .dataframe tbody tr th:only-of-type {\n",
       "        vertical-align: middle;\n",
       "    }\n",
       "\n",
       "    .dataframe tbody tr th {\n",
       "        vertical-align: top;\n",
       "    }\n",
       "\n",
       "    .dataframe thead th {\n",
       "        text-align: right;\n",
       "    }\n",
       "</style>\n",
       "<table border=\"1\" class=\"dataframe\">\n",
       "  <thead>\n",
       "    <tr style=\"text-align: right;\">\n",
       "      <th></th>\n",
       "      <th>text</th>\n",
       "      <th>target</th>\n",
       "    </tr>\n",
       "  </thead>\n",
       "  <tbody>\n",
       "    <tr>\n",
       "      <th>0</th>\n",
       "      <td>@AriCostello Asia Trip: Please send detailed w...</td>\n",
       "      <td>2</td>\n",
       "    </tr>\n",
       "    <tr>\n",
       "      <th>1</th>\n",
       "      <td>@sherwinsteel and I still didn't get anything</td>\n",
       "      <td>0</td>\n",
       "    </tr>\n",
       "    <tr>\n",
       "      <th>2</th>\n",
       "      <td>@merchantofmagic I do remember my first magic ...</td>\n",
       "      <td>2</td>\n",
       "    </tr>\n",
       "    <tr>\n",
       "      <th>3</th>\n",
       "      <td>Now this just getting sad.. got my car back.. ...</td>\n",
       "      <td>0</td>\n",
       "    </tr>\n",
       "    <tr>\n",
       "      <th>4</th>\n",
       "      <td>@heykim Awwww... I'm so sorry to hear about th...</td>\n",
       "      <td>0</td>\n",
       "    </tr>\n",
       "  </tbody>\n",
       "</table>\n",
       "</div>"
      ],
      "text/plain": [
       "                                                text  target\n",
       "0  @AriCostello Asia Trip: Please send detailed w...       2\n",
       "1     @sherwinsteel and I still didn't get anything        0\n",
       "2  @merchantofmagic I do remember my first magic ...       2\n",
       "3  Now this just getting sad.. got my car back.. ...       0\n",
       "4  @heykim Awwww... I'm so sorry to hear about th...       0"
      ]
     },
     "execution_count": 12,
     "metadata": {},
     "output_type": "execute_result"
    }
   ],
   "source": [
    "# Load data\n",
    "df = pd.read_csv(\"training.1600000.processed.noemoticon.csv\", encoding=\"latin-1\", header=None)\n",
    "df.columns = [\"target\", \"ids\", \"date\", \"flag\", \"user\", \"text\"]\n",
    "\n",
    "# Map target values to classes\n",
    "df = df[df[\"target\"].isin([0, 2, 4])]\n",
    "df[\"target\"] = df[\"target\"].map({0: 0, 2: 1, 4: 2})  # 0 = neg, 1 = neutral, 2 = pos\n",
    "\n",
    "# Keep only necessary columns\n",
    "df = df[[\"text\", \"target\"]]\n",
    "df = df.sample(frac=1).reset_index(drop=True)  # Shuffle\n",
    "df.head()"
   ]
  },
  {
   "cell_type": "markdown",
   "id": "cb545401",
   "metadata": {},
   "source": [
    "### 4. Text Preprocessing"
   ]
  },
  {
   "cell_type": "code",
   "execution_count": 13,
   "id": "84030672",
   "metadata": {},
   "outputs": [],
   "source": [
    "def clean_text(text):\n",
    "    text = text.lower()\n",
    "    text = re.sub(r\"http\\S+\", \"\", text)  # Remove links\n",
    "    text = re.sub(r\"@\\w+\", \"\", text)  # Remove mentions\n",
    "    text = re.sub(f\"[{re.escape(string.punctuation)}]\", \"\", text)  # Remove punctuation\n",
    "    text = re.sub(r\"\\s+\", \" \", text).strip()  # Remove extra whitespace\n",
    "    return text\n",
    "\n",
    "df[\"cleaned_text\"] = df[\"text\"].apply(clean_text)"
   ]
  },
  {
   "cell_type": "markdown",
   "id": "8d63f25c",
   "metadata": {},
   "source": [
    "### 5. Tokenization and Vocabulary"
   ]
  },
  {
   "cell_type": "code",
   "execution_count": 14,
   "id": "7b1cf526",
   "metadata": {},
   "outputs": [],
   "source": [
    "from collections import Counter\n",
    "\n",
    "def tokenize(text):\n",
    "    return text.split()\n",
    "\n",
    "# Build vocab\n",
    "token_counts = Counter()\n",
    "for sentence in df[\"cleaned_text\"]:\n",
    "    token_counts.update(tokenize(sentence))\n",
    "\n",
    "vocab = {word: i+2 for i, (word, _) in enumerate(token_counts.most_common(10000))}\n",
    "vocab[\"<PAD>\"] = 0\n",
    "vocab[\"<UNK>\"] = 1\n",
    "\n",
    "def encode(text):\n",
    "    return [vocab.get(word, vocab[\"<UNK>\"]) for word in tokenize(text)]\n"
   ]
  },
  {
   "cell_type": "markdown",
   "id": "e1e25417",
   "metadata": {},
   "source": [
    "### 6. Dataset and DataLoader"
   ]
  },
  {
   "cell_type": "code",
   "execution_count": 15,
   "id": "9fd97566",
   "metadata": {},
   "outputs": [],
   "source": [
    "MAX_LEN = 30\n",
    "\n",
    "class TweetDataset(Dataset):\n",
    "    def __init__(self, texts, labels):\n",
    "        self.texts = [self.pad(encode(text)) for text in texts]\n",
    "        self.labels = labels\n",
    "\n",
    "    def pad(self, encoded):\n",
    "        return encoded[:MAX_LEN] + [0] * (MAX_LEN - len(encoded))\n",
    "\n",
    "    def __len__(self):\n",
    "        return len(self.labels)\n",
    "\n",
    "    def __getitem__(self, idx):\n",
    "        return torch.tensor(self.texts[idx]), torch.tensor(self.labels[idx])\n",
    "\n",
    "X_train, X_test, y_train, y_test = train_test_split(df[\"cleaned_text\"], df[\"target\"], test_size=0.2, stratify=df[\"target\"])\n",
    "\n",
    "train_dataset = TweetDataset(X_train.tolist(), y_train.tolist())\n",
    "test_dataset = TweetDataset(X_test.tolist(), y_test.tolist())\n",
    "\n",
    "train_loader = DataLoader(train_dataset, batch_size=64, shuffle=True)\n",
    "test_loader = DataLoader(test_dataset, batch_size=64)\n"
   ]
  },
  {
   "cell_type": "markdown",
   "id": "0eb7097d",
   "metadata": {},
   "source": [
    "### 7. Define the Model"
   ]
  },
  {
   "cell_type": "code",
   "execution_count": 16,
   "id": "3d05d49a",
   "metadata": {},
   "outputs": [],
   "source": [
    "class SentimentClassifier(nn.Module):\n",
    "    def __init__(self, vocab_size, embed_dim, hidden_dim, output_dim):\n",
    "        super().__init__()\n",
    "        self.embedding = nn.Embedding(vocab_size, embed_dim, padding_idx=0)\n",
    "        self.fc1 = nn.Linear(embed_dim * MAX_LEN, hidden_dim)\n",
    "        self.relu = nn.ReLU()\n",
    "        self.fc2 = nn.Linear(hidden_dim, output_dim)\n",
    "\n",
    "    def forward(self, x):\n",
    "        x = self.embedding(x)\n",
    "        x = x.view(x.size(0), -1)\n",
    "        x = self.relu(self.fc1(x))\n",
    "        return self.fc2(x)\n",
    "\n",
    "model = SentimentClassifier(len(vocab), 50, 64, 3)\n"
   ]
  },
  {
   "cell_type": "markdown",
   "id": "71c243d9",
   "metadata": {},
   "source": [
    "### 8. Train the Model"
   ]
  },
  {
   "cell_type": "code",
   "execution_count": 17,
   "id": "ea9ebb16",
   "metadata": {},
   "outputs": [
    {
     "name": "stdout",
     "output_type": "stream",
     "text": [
      "Epoch 1, Loss: 9365.2202\n",
      "Epoch 2, Loss: 8456.1155\n",
      "Epoch 3, Loss: 8137.9499\n"
     ]
    }
   ],
   "source": [
    "device = torch.device(\"cuda\" if torch.cuda.is_available() else \"cpu\")\n",
    "model.to(device)\n",
    "\n",
    "criterion = nn.CrossEntropyLoss()\n",
    "optimizer = optim.Adam(model.parameters(), lr=0.001)\n",
    "\n",
    "for epoch in range(3):\n",
    "    model.train()\n",
    "    total_loss = 0\n",
    "    for texts, labels in train_loader:\n",
    "        texts, labels = texts.to(device), labels.to(device)\n",
    "        outputs = model(texts)\n",
    "        loss = criterion(outputs, labels)\n",
    "        optimizer.zero_grad()\n",
    "        loss.backward()\n",
    "        optimizer.step()\n",
    "        total_loss += loss.item()\n",
    "    print(f\"Epoch {epoch+1}, Loss: {total_loss:.4f}\")\n"
   ]
  },
  {
   "cell_type": "markdown",
   "id": "eeb84423",
   "metadata": {},
   "source": [
    "### 9. Evaluate the Model"
   ]
  },
  {
   "cell_type": "code",
   "execution_count": 9,
   "id": "9f2ffce9",
   "metadata": {},
   "outputs": [
    {
     "name": "stdout",
     "output_type": "stream",
     "text": [
      "              precision    recall  f1-score   support\n",
      "\n",
      "    Negative       0.81      0.79      0.80    160000\n",
      "     Neutral       0.00      0.00      0.00         0\n",
      "    Positive       0.80      0.81      0.81    160000\n",
      "\n",
      "   micro avg       0.80      0.80      0.80    320000\n",
      "   macro avg       0.54      0.54      0.54    320000\n",
      "weighted avg       0.80      0.80      0.80    320000\n",
      "\n"
     ]
    }
   ],
   "source": [
    "from sklearn.metrics import classification_report\n",
    "model.eval()\n",
    "all_preds, all_labels = [], []\n",
    "\n",
    "with torch.no_grad():\n",
    "    for texts, labels in test_loader:\n",
    "        texts, labels = texts.to(device), labels.to(device)\n",
    "        outputs = model(texts)\n",
    "        _, predicted = torch.max(outputs, 1)\n",
    "        all_preds.extend(predicted.cpu().numpy())\n",
    "        all_labels.extend(labels.cpu().numpy())\n",
    "\n",
    "print(classification_report(\n",
    "    all_labels, \n",
    "    all_preds, \n",
    "    labels=[0, 1, 2], \n",
    "    target_names=[\"Negative\", \"Neutral\", \"Positive\"],\n",
    "    zero_division=0\n",
    "    ))\n"
   ]
  },
  {
   "cell_type": "code",
   "execution_count": null,
   "id": "44774fd8",
   "metadata": {},
   "outputs": [],
   "source": []
  }
 ],
 "metadata": {
  "kernelspec": {
   "display_name": "miniconda3",
   "language": "python",
   "name": "miniconda3"
  },
  "language_info": {
   "codemirror_mode": {
    "name": "ipython",
    "version": 3
   },
   "file_extension": ".py",
   "mimetype": "text/x-python",
   "name": "python",
   "nbconvert_exporter": "python",
   "pygments_lexer": "ipython3",
   "version": "3.10.9"
  }
 },
 "nbformat": 4,
 "nbformat_minor": 5
}
